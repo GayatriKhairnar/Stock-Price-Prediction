{
 "cells": [
  {
   "cell_type": "code",
   "execution_count": 1,
   "id": "6c09d60f",
   "metadata": {},
   "outputs": [
    {
     "name": "stdout",
     "output_type": "stream",
     "text": [
      "Requirement already satisfied: pandas_datareader in c:\\users\\khair\\anaconda3\\lib\\site-packages (0.10.0)\n",
      "Requirement already satisfied: lxml in c:\\users\\khair\\anaconda3\\lib\\site-packages (from pandas_datareader) (4.8.0)\n",
      "Requirement already satisfied: pandas>=0.23 in c:\\users\\khair\\anaconda3\\lib\\site-packages (from pandas_datareader) (1.4.2)\n",
      "Requirement already satisfied: requests>=2.19.0 in c:\\users\\khair\\anaconda3\\lib\\site-packages (from pandas_datareader) (2.27.1)\n",
      "Requirement already satisfied: numpy>=1.18.5 in c:\\users\\khair\\anaconda3\\lib\\site-packages (from pandas>=0.23->pandas_datareader) (1.21.5)\n",
      "Requirement already satisfied: python-dateutil>=2.8.1 in c:\\users\\khair\\anaconda3\\lib\\site-packages (from pandas>=0.23->pandas_datareader) (2.8.2)\n",
      "Requirement already satisfied: pytz>=2020.1 in c:\\users\\khair\\anaconda3\\lib\\site-packages (from pandas>=0.23->pandas_datareader) (2021.3)\n",
      "Requirement already satisfied: six>=1.5 in c:\\users\\khair\\anaconda3\\lib\\site-packages (from python-dateutil>=2.8.1->pandas>=0.23->pandas_datareader) (1.16.0)\n",
      "Requirement already satisfied: certifi>=2017.4.17 in c:\\users\\khair\\anaconda3\\lib\\site-packages (from requests>=2.19.0->pandas_datareader) (2021.10.8)\n",
      "Requirement already satisfied: idna<4,>=2.5 in c:\\users\\khair\\anaconda3\\lib\\site-packages (from requests>=2.19.0->pandas_datareader) (3.3)\n",
      "Requirement already satisfied: urllib3<1.27,>=1.21.1 in c:\\users\\khair\\anaconda3\\lib\\site-packages (from requests>=2.19.0->pandas_datareader) (1.26.9)\n",
      "Requirement already satisfied: charset-normalizer~=2.0.0 in c:\\users\\khair\\anaconda3\\lib\\site-packages (from requests>=2.19.0->pandas_datareader) (2.0.4)\n",
      "Note: you may need to restart the kernel to use updated packages.\n"
     ]
    }
   ],
   "source": [
    "pip install pandas_datareader"
   ]
  },
  {
   "cell_type": "code",
   "execution_count": 2,
   "id": "4be893fd",
   "metadata": {},
   "outputs": [],
   "source": [
    "### Data Collection\n",
    "\n",
    "import pandas_datareader as pdr"
   ]
  },
  {
   "cell_type": "code",
   "execution_count": 3,
   "id": "af42ddf9",
   "metadata": {},
   "outputs": [
    {
     "name": "stderr",
     "output_type": "stream",
     "text": [
      "C:\\Users\\khair\\anaconda3\\lib\\site-packages\\pandas_datareader\\tiingo.py:234: FutureWarning: In a future version of pandas all arguments of concat except for the argument 'objs' will be keyword-only.\n",
      "  return pd.concat(dfs, self._concat_axis)\n"
     ]
    }
   ],
   "source": [
    "df = pdr.get_data_tiingo('AAPL',api_key='1a686b489754acf32d9c285a7ad8be10f717c3d3')"
   ]
  },
  {
   "cell_type": "code",
   "execution_count": 4,
   "id": "c0439f28",
   "metadata": {},
   "outputs": [],
   "source": [
    "df.to_csv('AAPL.csv')"
   ]
  },
  {
   "cell_type": "code",
   "execution_count": 5,
   "id": "03ebc1c5",
   "metadata": {},
   "outputs": [],
   "source": [
    "import pandas as pd"
   ]
  },
  {
   "cell_type": "code",
   "execution_count": 6,
   "id": "9c3d56eb",
   "metadata": {},
   "outputs": [],
   "source": [
    "df = pd.read_csv('AAPL.csv')"
   ]
  },
  {
   "cell_type": "code",
   "execution_count": 7,
   "id": "9d4d962a",
   "metadata": {},
   "outputs": [
    {
     "data": {
      "text/html": [
       "<div>\n",
       "<style scoped>\n",
       "    .dataframe tbody tr th:only-of-type {\n",
       "        vertical-align: middle;\n",
       "    }\n",
       "\n",
       "    .dataframe tbody tr th {\n",
       "        vertical-align: top;\n",
       "    }\n",
       "\n",
       "    .dataframe thead th {\n",
       "        text-align: right;\n",
       "    }\n",
       "</style>\n",
       "<table border=\"1\" class=\"dataframe\">\n",
       "  <thead>\n",
       "    <tr style=\"text-align: right;\">\n",
       "      <th></th>\n",
       "      <th>symbol</th>\n",
       "      <th>date</th>\n",
       "      <th>close</th>\n",
       "      <th>high</th>\n",
       "      <th>low</th>\n",
       "      <th>open</th>\n",
       "      <th>volume</th>\n",
       "      <th>adjClose</th>\n",
       "      <th>adjHigh</th>\n",
       "      <th>adjLow</th>\n",
       "      <th>adjOpen</th>\n",
       "      <th>adjVolume</th>\n",
       "      <th>divCash</th>\n",
       "      <th>splitFactor</th>\n",
       "    </tr>\n",
       "  </thead>\n",
       "  <tbody>\n",
       "    <tr>\n",
       "      <th>0</th>\n",
       "      <td>AAPL</td>\n",
       "      <td>2018-04-10 00:00:00+00:00</td>\n",
       "      <td>173.25</td>\n",
       "      <td>174.00</td>\n",
       "      <td>171.53</td>\n",
       "      <td>173.00</td>\n",
       "      <td>28614241</td>\n",
       "      <td>41.234815</td>\n",
       "      <td>41.413321</td>\n",
       "      <td>40.825442</td>\n",
       "      <td>41.175314</td>\n",
       "      <td>114456964</td>\n",
       "      <td>0.0</td>\n",
       "      <td>1.0</td>\n",
       "    </tr>\n",
       "    <tr>\n",
       "      <th>1</th>\n",
       "      <td>AAPL</td>\n",
       "      <td>2018-04-11 00:00:00+00:00</td>\n",
       "      <td>172.44</td>\n",
       "      <td>173.92</td>\n",
       "      <td>171.70</td>\n",
       "      <td>172.23</td>\n",
       "      <td>22431640</td>\n",
       "      <td>41.042029</td>\n",
       "      <td>41.394281</td>\n",
       "      <td>40.865904</td>\n",
       "      <td>40.992048</td>\n",
       "      <td>89726560</td>\n",
       "      <td>0.0</td>\n",
       "      <td>1.0</td>\n",
       "    </tr>\n",
       "    <tr>\n",
       "      <th>2</th>\n",
       "      <td>AAPL</td>\n",
       "      <td>2018-04-12 00:00:00+00:00</td>\n",
       "      <td>174.14</td>\n",
       "      <td>175.00</td>\n",
       "      <td>173.04</td>\n",
       "      <td>173.41</td>\n",
       "      <td>22889285</td>\n",
       "      <td>41.446642</td>\n",
       "      <td>41.651329</td>\n",
       "      <td>41.184834</td>\n",
       "      <td>41.272897</td>\n",
       "      <td>91557140</td>\n",
       "      <td>0.0</td>\n",
       "      <td>1.0</td>\n",
       "    </tr>\n",
       "    <tr>\n",
       "      <th>3</th>\n",
       "      <td>AAPL</td>\n",
       "      <td>2018-04-13 00:00:00+00:00</td>\n",
       "      <td>174.73</td>\n",
       "      <td>175.84</td>\n",
       "      <td>173.85</td>\n",
       "      <td>174.78</td>\n",
       "      <td>25124255</td>\n",
       "      <td>41.587067</td>\n",
       "      <td>41.851255</td>\n",
       "      <td>41.377620</td>\n",
       "      <td>41.598967</td>\n",
       "      <td>100497020</td>\n",
       "      <td>0.0</td>\n",
       "      <td>1.0</td>\n",
       "    </tr>\n",
       "    <tr>\n",
       "      <th>4</th>\n",
       "      <td>AAPL</td>\n",
       "      <td>2018-04-16 00:00:00+00:00</td>\n",
       "      <td>175.82</td>\n",
       "      <td>176.19</td>\n",
       "      <td>174.83</td>\n",
       "      <td>175.03</td>\n",
       "      <td>21578420</td>\n",
       "      <td>41.846495</td>\n",
       "      <td>41.934558</td>\n",
       "      <td>41.610867</td>\n",
       "      <td>41.658469</td>\n",
       "      <td>86313680</td>\n",
       "      <td>0.0</td>\n",
       "      <td>1.0</td>\n",
       "    </tr>\n",
       "  </tbody>\n",
       "</table>\n",
       "</div>"
      ],
      "text/plain": [
       "  symbol                       date   close    high     low    open    volume  \\\n",
       "0   AAPL  2018-04-10 00:00:00+00:00  173.25  174.00  171.53  173.00  28614241   \n",
       "1   AAPL  2018-04-11 00:00:00+00:00  172.44  173.92  171.70  172.23  22431640   \n",
       "2   AAPL  2018-04-12 00:00:00+00:00  174.14  175.00  173.04  173.41  22889285   \n",
       "3   AAPL  2018-04-13 00:00:00+00:00  174.73  175.84  173.85  174.78  25124255   \n",
       "4   AAPL  2018-04-16 00:00:00+00:00  175.82  176.19  174.83  175.03  21578420   \n",
       "\n",
       "    adjClose    adjHigh     adjLow    adjOpen  adjVolume  divCash  splitFactor  \n",
       "0  41.234815  41.413321  40.825442  41.175314  114456964      0.0          1.0  \n",
       "1  41.042029  41.394281  40.865904  40.992048   89726560      0.0          1.0  \n",
       "2  41.446642  41.651329  41.184834  41.272897   91557140      0.0          1.0  \n",
       "3  41.587067  41.851255  41.377620  41.598967  100497020      0.0          1.0  \n",
       "4  41.846495  41.934558  41.610867  41.658469   86313680      0.0          1.0  "
      ]
     },
     "execution_count": 7,
     "metadata": {},
     "output_type": "execute_result"
    }
   ],
   "source": [
    "df.head()"
   ]
  },
  {
   "cell_type": "code",
   "execution_count": 8,
   "id": "a001e1b5",
   "metadata": {},
   "outputs": [],
   "source": [
    "df2 = df.reset_index()['close']"
   ]
  },
  {
   "cell_type": "code",
   "execution_count": 9,
   "id": "00d0c643",
   "metadata": {},
   "outputs": [
    {
     "data": {
      "text/plain": [
       "0    173.25\n",
       "1    172.44\n",
       "2    174.14\n",
       "3    174.73\n",
       "4    175.82\n",
       "Name: close, dtype: float64"
      ]
     },
     "execution_count": 9,
     "metadata": {},
     "output_type": "execute_result"
    }
   ],
   "source": [
    "df2.head()"
   ]
  },
  {
   "cell_type": "code",
   "execution_count": 10,
   "id": "a1af2958",
   "metadata": {},
   "outputs": [
    {
     "data": {
      "text/plain": [
       "1228    146.71\n",
       "1229    147.92\n",
       "1230    147.41\n",
       "1231    145.31\n",
       "1232    145.91\n",
       "1233    151.03\n",
       "1234    153.83\n",
       "1235    151.60\n",
       "1236    152.87\n",
       "1237    150.59\n",
       "1238    148.50\n",
       "1239    150.47\n",
       "1240    152.59\n",
       "1241    152.99\n",
       "1242    155.85\n",
       "1243    155.00\n",
       "1244    157.40\n",
       "1245    159.28\n",
       "1246    157.83\n",
       "1247    158.93\n",
       "1248    160.25\n",
       "1249    158.28\n",
       "1250    157.65\n",
       "1251    160.77\n",
       "1252    162.36\n",
       "1253    164.90\n",
       "1254    166.17\n",
       "1255    165.63\n",
       "1256    163.76\n",
       "1257    164.66\n",
       "Name: close, dtype: float64"
      ]
     },
     "execution_count": 10,
     "metadata": {},
     "output_type": "execute_result"
    }
   ],
   "source": [
    "df2[1228:]"
   ]
  },
  {
   "cell_type": "code",
   "execution_count": 11,
   "id": "22995ad6",
   "metadata": {},
   "outputs": [
    {
     "data": {
      "text/plain": [
       "[<matplotlib.lines.Line2D at 0x179a217d7c0>]"
      ]
     },
     "execution_count": 11,
     "metadata": {},
     "output_type": "execute_result"
    },
    {
     "data": {
      "image/png": "[encoded data removed]",
      "text/plain": [
       "<Figure size 432x288 with 1 Axes>"
      ]
     },
     "metadata": {
      "needs_background": "light"
     },
     "output_type": "display_data"
    }
   ],
   "source": [
    "import matplotlib.pyplot as plt\n",
    "plt.plot(df2)"
   ]
  },
  {
   "cell_type": "code",
   "execution_count": 12,
   "id": "707f3c7a",
   "metadata": {},
   "outputs": [
    {
     "data": {
      "text/plain": [
       "(1258,)"
      ]
     },
     "execution_count": 12,
     "metadata": {},
     "output_type": "execute_result"
    }
   ],
   "source": [
    "df2.shape"
   ]
  },
  {
   "cell_type": "code",
   "execution_count": 13,
   "id": "1626504d",
   "metadata": {},
   "outputs": [],
   "source": [
    "### LSTM are sensitive to the scale of the data. So we apply MinMax Scaler where values are between 0 to 1"
   ]
  },
  {
   "cell_type": "code",
   "execution_count": 14,
   "id": "41c21b42",
   "metadata": {},
   "outputs": [],
   "source": [
    "import numpy as np"
   ]
  },
  {
   "cell_type": "code",
   "execution_count": 15,
   "id": "03941c86",
   "metadata": {},
   "outputs": [],
   "source": [
    "from sklearn.preprocessing import MinMaxScaler\n",
    "scaler = MinMaxScaler(feature_range=(0,1))\n",
    "df2 = scaler.fit_transform(np.array(df2).reshape(-1,1))"
   ]
  },
  {
   "cell_type": "code",
   "execution_count": 16,
   "id": "d4f5ece2",
   "metadata": {},
   "outputs": [
    {
     "data": {
      "text/plain": [
       "array([[0.16633688],\n",
       "       [0.16430808],\n",
       "       [0.16856606],\n",
       "       ...,\n",
       "       [0.1472511 ],\n",
       "       [0.14256731],\n",
       "       [0.14482154]])"
      ]
     },
     "execution_count": 16,
     "metadata": {},
     "output_type": "execute_result"
    }
   ],
   "source": [
    "df2"
   ]
  },
  {
   "cell_type": "code",
   "execution_count": 17,
   "id": "120d119c",
   "metadata": {},
   "outputs": [],
   "source": [
    "# Splitting dataset  \n",
    "training_size = int(len(df2)*0.65)\n",
    "test_size = len(df2) - training_size\n",
    "train_data, test_data = df2[0:training_size,:],df2[training_size:len(df2),:1]"
   ]
  },
  {
   "cell_type": "code",
   "execution_count": 18,
   "id": "62b3e533",
   "metadata": {},
   "outputs": [],
   "source": [
    "import numpy \n",
    "## Convert an array of values into a dataset matrix\n",
    "\n",
    "def create_dataset(dataset,time_step = 1):\n",
    "    dataX,dataY = [],[]\n",
    "    for i in range(len(dataset)-time_step-1):\n",
    "        a = dataset[i:(i+time_step),0]\n",
    "        dataX.append(a)\n",
    "        dataY.append(dataset[i+time_step,0])\n",
    "    return numpy.array(dataX),numpy.array(dataY)\n",
    "        \n"
   ]
  },
  {
   "cell_type": "code",
   "execution_count": 19,
   "id": "797dd436",
   "metadata": {},
   "outputs": [],
   "source": [
    "# reshape into X = t, t+1, t+2 and Y = t+3\n",
    "time_step = 100\n",
    "X_train,Y_train = create_dataset(train_data,time_step)\n",
    "X_test, Y_test = create_dataset(test_data,time_step)"
   ]
  },
  {
   "cell_type": "code",
   "execution_count": 20,
   "id": "917ec4a3",
   "metadata": {},
   "outputs": [
    {
     "data": {
      "text/plain": [
       "(716, 100)"
      ]
     },
     "execution_count": 20,
     "metadata": {},
     "output_type": "execute_result"
    }
   ],
   "source": [
    "X_train.shape"
   ]
  },
  {
   "cell_type": "code",
   "execution_count": 21,
   "id": "e2dc0694",
   "metadata": {},
   "outputs": [
    {
     "data": {
      "text/plain": [
       "(716,)"
      ]
     },
     "execution_count": 21,
     "metadata": {},
     "output_type": "execute_result"
    }
   ],
   "source": [
    "Y_train.shape"
   ]
  },
  {
   "cell_type": "code",
   "execution_count": 22,
   "id": "6a54f9e0",
   "metadata": {},
   "outputs": [
    {
     "data": {
      "text/plain": [
       "(340, 100)"
      ]
     },
     "execution_count": 22,
     "metadata": {},
     "output_type": "execute_result"
    }
   ],
   "source": [
    "X_test.shape"
   ]
  },
  {
   "cell_type": "code",
   "execution_count": 23,
   "id": "1b5d4744",
   "metadata": {},
   "outputs": [
    {
     "data": {
      "text/plain": [
       "(340,)"
      ]
     },
     "execution_count": 23,
     "metadata": {},
     "output_type": "execute_result"
    }
   ],
   "source": [
    "Y_test.shape"
   ]
  },
  {
   "cell_type": "code",
   "execution_count": 24,
   "id": "a4752043",
   "metadata": {},
   "outputs": [],
   "source": [
    "# reshape input to be [sample,time_step,features] which is required for LSTM\n",
    "\n",
    "X_train = X_train.reshape(X_train.shape[0],X_train.shape[1],1)\n",
    "X_test = X_test.reshape(X_test.shape[0],X_test.shape[1],1)\n"
   ]
  },
  {
   "cell_type": "markdown",
   "id": "f83e223e",
   "metadata": {},
   "source": [
    "# Create LSTM Model"
   ]
  },
  {
   "cell_type": "code",
   "execution_count": 25,
   "id": "b464f321",
   "metadata": {},
   "outputs": [],
   "source": [
    "from tensorflow.keras.models import Sequential\n",
    "from tensorflow.keras.layers import Dense\n",
    "from tensorflow.keras.layers import LSTM"
   ]
  },
  {
   "cell_type": "code",
   "execution_count": 26,
   "id": "461a2714",
   "metadata": {},
   "outputs": [],
   "source": [
    "model = Sequential()\n",
    "model.add(LSTM(50,return_sequences=True,input_shape=(100,1)))\n",
    "model.add(LSTM(50,return_sequences=True))\n",
    "model.add(LSTM(50))\n",
    "model.add(Dense(1))\n",
    "model.compile(loss='mse', optimizer='adam', metrics=['accuracy'])"
   ]
  },
  {
   "cell_type": "code",
   "execution_count": 27,
   "id": "cd22e37a",
   "metadata": {},
   "outputs": [
    {
     "name": "stdout",
     "output_type": "stream",
     "text": [
      "Model: \"sequential\"\n",
      "_________________________________________________________________\n",
      " Layer (type)                Output Shape              Param #   \n",
      "=================================================================\n",
      " lstm (LSTM)                 (None, 100, 50)           10400     \n",
      "                                                                 \n",
      " lstm_1 (LSTM)               (None, 100, 50)           20200     \n",
      "                                                                 \n",
      " lstm_2 (LSTM)               (None, 50)                20200     \n",
      "                                                                 \n",
      " dense (Dense)               (None, 1)                 51        \n",
      "                                                                 \n",
      "=================================================================\n",
      "Total params: 50,851\n",
      "Trainable params: 50,851\n",
      "Non-trainable params: 0\n",
      "_________________________________________________________________\n"
     ]
    }
   ],
   "source": [
    "model.summary()"
   ]
  },
  {
   "cell_type": "code",
   "execution_count": 28,
   "id": "12409130",
   "metadata": {},
   "outputs": [
    {
     "name": "stdout",
     "output_type": "stream",
     "text": [
      "Epoch 1/5\n",
      "12/12 [==============================] - 5s 165ms/step - loss: 0.0412 - accuracy: 0.0014 - val_loss: 0.0017 - val_accuracy: 0.0000e+00\n",
      "Epoch 2/5\n",
      "12/12 [==============================] - 1s 91ms/step - loss: 0.0131 - accuracy: 0.0028 - val_loss: 0.0026 - val_accuracy: 0.0000e+00\n",
      "Epoch 3/5\n",
      "12/12 [==============================] - 1s 92ms/step - loss: 0.0103 - accuracy: 0.0028 - val_loss: 4.7815e-04 - val_accuracy: 0.0000e+00\n",
      "Epoch 4/5\n",
      "12/12 [==============================] - 1s 96ms/step - loss: 0.0095 - accuracy: 0.0028 - val_loss: 4.9811e-04 - val_accuracy: 0.0000e+00\n",
      "Epoch 5/5\n",
      "12/12 [==============================] - 1s 95ms/step - loss: 0.0082 - accuracy: 0.0028 - val_loss: 4.3552e-04 - val_accuracy: 0.0000e+00\n"
     ]
    },
    {
     "data": {
      "text/plain": [
       "<keras.callbacks.History at 0x179adfdc490>"
      ]
     },
     "execution_count": 28,
     "metadata": {},
     "output_type": "execute_result"
    }
   ],
   "source": [
    "model.fit(X_train,Y_train,validation_data=(X_test,Y_test),epochs=5,batch_size=64)"
   ]
  },
  {
   "cell_type": "code",
   "execution_count": 29,
   "id": "2a27050b",
   "metadata": {},
   "outputs": [
    {
     "name": "stdout",
     "output_type": "stream",
     "text": [
      "23/23 [==============================] - 1s 16ms/step\n",
      "11/11 [==============================] - 0s 18ms/step\n"
     ]
    }
   ],
   "source": [
    "### Lets Do the prediction and check performance metrics\n",
    "train_predict=model.predict(X_train)\n",
    "test_predict=model.predict(X_test)"
   ]
  },
  {
   "cell_type": "code",
   "execution_count": 30,
   "id": "e1c367b6",
   "metadata": {},
   "outputs": [],
   "source": [
    "##Transformback to original form\n",
    "train_predict=scaler.inverse_transform(train_predict)\n",
    "test_predict=scaler.inverse_transform(test_predict)"
   ]
  },
  {
   "cell_type": "code",
   "execution_count": 31,
   "id": "2541b1aa",
   "metadata": {},
   "outputs": [
    {
     "data": {
      "text/plain": [
       "220.56425050114473"
      ]
     },
     "execution_count": 31,
     "metadata": {},
     "output_type": "execute_result"
    }
   ],
   "source": [
    "### Calculate RMSE performance metrics\n",
    "import math\n",
    "from sklearn.metrics import mean_squared_error\n",
    "math.sqrt(mean_squared_error(Y_train,train_predict))"
   ]
  },
  {
   "cell_type": "code",
   "execution_count": 32,
   "id": "e4792c01",
   "metadata": {},
   "outputs": [
    {
     "data": {
      "text/plain": [
       "158.6508290680763"
      ]
     },
     "execution_count": 32,
     "metadata": {},
     "output_type": "execute_result"
    }
   ],
   "source": [
    "### Test Data RMSE\n",
    "math.sqrt(mean_squared_error(Y_test,test_predict))"
   ]
  },
  {
   "cell_type": "code",
   "execution_count": 33,
   "id": "cd4e7ff3",
   "metadata": {},
   "outputs": [
    {
     "data": {
      "image/png": "[encoded data removed]",
      "text/plain": [
       "<Figure size 432x288 with 1 Axes>"
      ]
     },
     "metadata": {
      "needs_background": "light"
     },
     "output_type": "display_data"
    }
   ],
   "source": [
    "### Plotting \n",
    "# shift train predictions for plotting\n",
    "look_back=100\n",
    "trainPredictPlot = numpy.empty_like(df2)\n",
    "trainPredictPlot[:, :] = np.nan\n",
    "trainPredictPlot[look_back:len(train_predict)+look_back, :] = train_predict\n",
    "# shift test predictions for plotting\n",
    "testPredictPlot = numpy.empty_like(df2)\n",
    "testPredictPlot[:, :] = numpy.nan\n",
    "testPredictPlot[len(train_predict)+(look_back*2)+1:len(df2)-1, :] = test_predict\n",
    "# plot baseline and predictions\n",
    "plt.plot(scaler.inverse_transform(df2))\n",
    "plt.plot(trainPredictPlot)\n",
    "plt.plot(testPredictPlot)\n",
    "plt.show()"
   ]
  },
  {
   "cell_type": "code",
   "execution_count": 34,
   "id": "e383afeb",
   "metadata": {},
   "outputs": [
    {
     "data": {
      "text/plain": [
       "441"
      ]
     },
     "execution_count": 34,
     "metadata": {},
     "output_type": "execute_result"
    }
   ],
   "source": [
    "len(test_data)"
   ]
  },
  {
   "cell_type": "code",
   "execution_count": 35,
   "id": "8f41d266",
   "metadata": {},
   "outputs": [
    {
     "data": {
      "text/plain": [
       "(1, 100)"
      ]
     },
     "execution_count": 35,
     "metadata": {},
     "output_type": "execute_result"
    }
   ],
   "source": [
    "x_input=test_data[341:].reshape(1,-1)\n",
    "x_input.shape"
   ]
  },
  {
   "cell_type": "code",
   "execution_count": 36,
   "id": "956befa1",
   "metadata": {},
   "outputs": [],
   "source": [
    "temp_input=list(x_input)\n",
    "temp_input=temp_input[0].tolist()"
   ]
  },
  {
   "cell_type": "code",
   "execution_count": 37,
   "id": "d7d7de32",
   "metadata": {},
   "outputs": [
    {
     "data": {
      "text/plain": [
       "[0.10735128365685653,\n",
       " 0.103794614902943,\n",
       " 0.10820288040075132,\n",
       " 0.10507201001878513,\n",
       " 0.10990607388854096,\n",
       " 0.11133375078271751,\n",
       " 0.10311834690043825,\n",
       " 0.10855353788353161,\n",
       " 0.11078271759549146,\n",
       " 0.10336881653099561,\n",
       " 0.09362554790231681,\n",
       " 0.08598622417031926,\n",
       " 0.10316844082654975,\n",
       " 0.10386975579211016,\n",
       " 0.1026174076393237,\n",
       " 0.0996618659987476,\n",
       " 0.09034439574201625,\n",
       " 0.08541014402003755,\n",
       " 0.08969317470256727,\n",
       " 0.08846587351283652,\n",
       " 0.0943018159048215,\n",
       " 0.096756418284283,\n",
       " 0.09109580463368816,\n",
       " 0.07428929242329363,\n",
       " 0.06930494677520344,\n",
       " 0.06394489668127734,\n",
       " 0.06376956793988725,\n",
       " 0.07165936130244199,\n",
       " 0.0635942391984971,\n",
       " 0.06266750156543521,\n",
       " 0.05808390732623664,\n",
       " 0.04809016906700059,\n",
       " 0.05703193487789604,\n",
       " 0.05783343769567939,\n",
       " 0.04566061365059482,\n",
       " 0.04889167188478394,\n",
       " 0.045535378835316165,\n",
       " 0.05705698184095176,\n",
       " 0.05838447088290544,\n",
       " 0.05983719474013771,\n",
       " 0.06675015654351907,\n",
       " 0.0665497808390732,\n",
       " 0.0699311208515967,\n",
       " 0.0728866624921728,\n",
       " 0.07105823418910456,\n",
       " 0.07120851596743893,\n",
       " 0.07772072636192856,\n",
       " 0.08583594239198494,\n",
       " 0.08939261114589853,\n",
       " 0.08771446462116467,\n",
       " 0.09297432686286783,\n",
       " 0.09790857858484658,\n",
       " 0.09056981840951783,\n",
       " 0.0938008766437069,\n",
       " 0.09665623043206006,\n",
       " 0.11015654351909826,\n",
       " 0.11937382592360674,\n",
       " 0.1124358171571696,\n",
       " 0.11974953036944269,\n",
       " 0.11291170945522849,\n",
       " 0.11028177833437691,\n",
       " 0.1106324358171571,\n",
       " 0.11774577332498432,\n",
       " 0.11611772072636184,\n",
       " 0.12145272385723233,\n",
       " 0.11739511584220413,\n",
       " 0.11448966812773947,\n",
       " 0.10429555416405756,\n",
       " 0.10537257357545393,\n",
       " 0.10659987476518468,\n",
       " 0.09986224170319347,\n",
       " 0.10289292423293667,\n",
       " 0.10161552911709448,\n",
       " 0.09635566687539132,\n",
       " 0.09785848465873509,\n",
       " 0.11068252974326859,\n",
       " 0.11769567939887288,\n",
       " 0.11211020663744514,\n",
       " 0.11529117094552283,\n",
       " 0.1095804633688165,\n",
       " 0.10434564809016905,\n",
       " 0.10927989981214775,\n",
       " 0.11458985597996241,\n",
       " 0.11559173450219157,\n",
       " 0.12275516593613017,\n",
       " 0.1206261740763932,\n",
       " 0.12663744520976827,\n",
       " 0.13134627426424544,\n",
       " 0.12771446462116465,\n",
       " 0.13046963055729488,\n",
       " 0.13377582968065116,\n",
       " 0.12884157795867246,\n",
       " 0.12726361928616153,\n",
       " 0.13507827175954912,\n",
       " 0.13906073888541015,\n",
       " 0.1454226675015654,\n",
       " 0.14860363180964303,\n",
       " 0.14725109580463364,\n",
       " 0.14256731371321218,\n",
       " 0.14482154038822787]"
      ]
     },
     "execution_count": 37,
     "metadata": {},
     "output_type": "execute_result"
    }
   ],
   "source": [
    "temp_input"
   ]
  },
  {
   "cell_type": "code",
   "execution_count": 38,
   "id": "586a5834",
   "metadata": {},
   "outputs": [
    {
     "name": "stdout",
     "output_type": "stream",
     "text": [
      "[0.14188156]\n",
      "101\n",
      "1 day input [0.10379461 0.10820288 0.10507201 0.10990607 0.11133375 0.10311835\n",
      " 0.10855354 0.11078272 0.10336882 0.09362555 0.08598622 0.10316844\n",
      " 0.10386976 0.10261741 0.09966187 0.0903444  0.08541014 0.08969317\n",
      " 0.08846587 0.09430182 0.09675642 0.0910958  0.07428929 0.06930495\n",
      " 0.0639449  0.06376957 0.07165936 0.06359424 0.0626675  0.05808391\n",
      " 0.04809017 0.05703193 0.05783344 0.04566061 0.04889167 0.04553538\n",
      " 0.05705698 0.05838447 0.05983719 0.06675016 0.06654978 0.06993112\n",
      " 0.07288666 0.07105823 0.07120852 0.07772073 0.08583594 0.08939261\n",
      " 0.08771446 0.09297433 0.09790858 0.09056982 0.09380088 0.09665623\n",
      " 0.11015654 0.11937383 0.11243582 0.11974953 0.11291171 0.11028178\n",
      " 0.11063244 0.11774577 0.11611772 0.12145272 0.11739512 0.11448967\n",
      " 0.10429555 0.10537257 0.10659987 0.09986224 0.10289292 0.10161553\n",
      " 0.09635567 0.09785848 0.11068253 0.11769568 0.11211021 0.11529117\n",
      " 0.10958046 0.10434565 0.1092799  0.11458986 0.11559173 0.12275517\n",
      " 0.12062617 0.12663745 0.13134627 0.12771446 0.13046963 0.13377583\n",
      " 0.12884158 0.12726362 0.13507827 0.13906074 0.14542267 0.14860363\n",
      " 0.1472511  0.14256731 0.14482154 0.14188156]\n",
      "1 day output [[0.14358531]]\n",
      "2 day input [0.10820288 0.10507201 0.10990607 0.11133375 0.10311835 0.10855354\n",
      " 0.11078272 0.10336882 0.09362555 0.08598622 0.10316844 0.10386976\n",
      " 0.10261741 0.09966187 0.0903444  0.08541014 0.08969317 0.08846587\n",
      " 0.09430182 0.09675642 0.0910958  0.07428929 0.06930495 0.0639449\n",
      " 0.06376957 0.07165936 0.06359424 0.0626675  0.05808391 0.04809017\n",
      " 0.05703193 0.05783344 0.04566061 0.04889167 0.04553538 0.05705698\n",
      " 0.05838447 0.05983719 0.06675016 0.06654978 0.06993112 0.07288666\n",
      " 0.07105823 0.07120852 0.07772073 0.08583594 0.08939261 0.08771446\n",
      " 0.09297433 0.09790858 0.09056982 0.09380088 0.09665623 0.11015654\n",
      " 0.11937383 0.11243582 0.11974953 0.11291171 0.11028178 0.11063244\n",
      " 0.11774577 0.11611772 0.12145272 0.11739512 0.11448967 0.10429555\n",
      " 0.10537257 0.10659987 0.09986224 0.10289292 0.10161553 0.09635567\n",
      " 0.09785848 0.11068253 0.11769568 0.11211021 0.11529117 0.10958046\n",
      " 0.10434565 0.1092799  0.11458986 0.11559173 0.12275517 0.12062617\n",
      " 0.12663745 0.13134627 0.12771446 0.13046963 0.13377583 0.12884158\n",
      " 0.12726362 0.13507827 0.13906074 0.14542267 0.14860363 0.1472511\n",
      " 0.14256731 0.14482154 0.14188156 0.14358531]\n",
      "2 day output [[0.1451148]]\n",
      "3 day input [0.10507201 0.10990607 0.11133375 0.10311835 0.10855354 0.11078272\n",
      " 0.10336882 0.09362555 0.08598622 0.10316844 0.10386976 0.10261741\n",
      " 0.09966187 0.0903444  0.08541014 0.08969317 0.08846587 0.09430182\n",
      " 0.09675642 0.0910958  0.07428929 0.06930495 0.0639449  0.06376957\n",
      " 0.07165936 0.06359424 0.0626675  0.05808391 0.04809017 0.05703193\n",
      " 0.05783344 0.04566061 0.04889167 0.04553538 0.05705698 0.05838447\n",
      " 0.05983719 0.06675016 0.06654978 0.06993112 0.07288666 0.07105823\n",
      " 0.07120852 0.07772073 0.08583594 0.08939261 0.08771446 0.09297433\n",
      " 0.09790858 0.09056982 0.09380088 0.09665623 0.11015654 0.11937383\n",
      " 0.11243582 0.11974953 0.11291171 0.11028178 0.11063244 0.11774577\n",
      " 0.11611772 0.12145272 0.11739512 0.11448967 0.10429555 0.10537257\n",
      " 0.10659987 0.09986224 0.10289292 0.10161553 0.09635567 0.09785848\n",
      " 0.11068253 0.11769568 0.11211021 0.11529117 0.10958046 0.10434565\n",
      " 0.1092799  0.11458986 0.11559173 0.12275517 0.12062617 0.12663745\n",
      " 0.13134627 0.12771446 0.13046963 0.13377583 0.12884158 0.12726362\n",
      " 0.13507827 0.13906074 0.14542267 0.14860363 0.1472511  0.14256731\n",
      " 0.14482154 0.14188156 0.14358531 0.14511479]\n",
      "3 day output [[0.14647475]]\n",
      "4 day input [0.10990607 0.11133375 0.10311835 0.10855354 0.11078272 0.10336882\n",
      " 0.09362555 0.08598622 0.10316844 0.10386976 0.10261741 0.09966187\n",
      " 0.0903444  0.08541014 0.08969317 0.08846587 0.09430182 0.09675642\n",
      " 0.0910958  0.07428929 0.06930495 0.0639449  0.06376957 0.07165936\n",
      " 0.06359424 0.0626675  0.05808391 0.04809017 0.05703193 0.05783344\n",
      " 0.04566061 0.04889167 0.04553538 0.05705698 0.05838447 0.05983719\n",
      " 0.06675016 0.06654978 0.06993112 0.07288666 0.07105823 0.07120852\n",
      " 0.07772073 0.08583594 0.08939261 0.08771446 0.09297433 0.09790858\n",
      " 0.09056982 0.09380088 0.09665623 0.11015654 0.11937383 0.11243582\n",
      " 0.11974953 0.11291171 0.11028178 0.11063244 0.11774577 0.11611772\n",
      " 0.12145272 0.11739512 0.11448967 0.10429555 0.10537257 0.10659987\n",
      " 0.09986224 0.10289292 0.10161553 0.09635567 0.09785848 0.11068253\n",
      " 0.11769568 0.11211021 0.11529117 0.10958046 0.10434565 0.1092799\n",
      " 0.11458986 0.11559173 0.12275517 0.12062617 0.12663745 0.13134627\n",
      " 0.12771446 0.13046963 0.13377583 0.12884158 0.12726362 0.13507827\n",
      " 0.13906074 0.14542267 0.14860363 0.1472511  0.14256731 0.14482154\n",
      " 0.14188156 0.14358531 0.14511479 0.14647475]\n",
      "4 day output [[0.14768735]]\n",
      "5 day input [0.11133375 0.10311835 0.10855354 0.11078272 0.10336882 0.09362555\n",
      " 0.08598622 0.10316844 0.10386976 0.10261741 0.09966187 0.0903444\n",
      " 0.08541014 0.08969317 0.08846587 0.09430182 0.09675642 0.0910958\n",
      " 0.07428929 0.06930495 0.0639449  0.06376957 0.07165936 0.06359424\n",
      " 0.0626675  0.05808391 0.04809017 0.05703193 0.05783344 0.04566061\n",
      " 0.04889167 0.04553538 0.05705698 0.05838447 0.05983719 0.06675016\n",
      " 0.06654978 0.06993112 0.07288666 0.07105823 0.07120852 0.07772073\n",
      " 0.08583594 0.08939261 0.08771446 0.09297433 0.09790858 0.09056982\n",
      " 0.09380088 0.09665623 0.11015654 0.11937383 0.11243582 0.11974953\n",
      " 0.11291171 0.11028178 0.11063244 0.11774577 0.11611772 0.12145272\n",
      " 0.11739512 0.11448967 0.10429555 0.10537257 0.10659987 0.09986224\n",
      " 0.10289292 0.10161553 0.09635567 0.09785848 0.11068253 0.11769568\n",
      " 0.11211021 0.11529117 0.10958046 0.10434565 0.1092799  0.11458986\n",
      " 0.11559173 0.12275517 0.12062617 0.12663745 0.13134627 0.12771446\n",
      " 0.13046963 0.13377583 0.12884158 0.12726362 0.13507827 0.13906074\n",
      " 0.14542267 0.14860363 0.1472511  0.14256731 0.14482154 0.14188156\n",
      " 0.14358531 0.14511479 0.14647475 0.14768735]\n",
      "5 day output [[0.14878167]]\n",
      "6 day input [0.10311835 0.10855354 0.11078272 0.10336882 0.09362555 0.08598622\n",
      " 0.10316844 0.10386976 0.10261741 0.09966187 0.0903444  0.08541014\n",
      " 0.08969317 0.08846587 0.09430182 0.09675642 0.0910958  0.07428929\n",
      " 0.06930495 0.0639449  0.06376957 0.07165936 0.06359424 0.0626675\n",
      " 0.05808391 0.04809017 0.05703193 0.05783344 0.04566061 0.04889167\n",
      " 0.04553538 0.05705698 0.05838447 0.05983719 0.06675016 0.06654978\n",
      " 0.06993112 0.07288666 0.07105823 0.07120852 0.07772073 0.08583594\n",
      " 0.08939261 0.08771446 0.09297433 0.09790858 0.09056982 0.09380088\n",
      " 0.09665623 0.11015654 0.11937383 0.11243582 0.11974953 0.11291171\n",
      " 0.11028178 0.11063244 0.11774577 0.11611772 0.12145272 0.11739512\n",
      " 0.11448967 0.10429555 0.10537257 0.10659987 0.09986224 0.10289292\n",
      " 0.10161553 0.09635567 0.09785848 0.11068253 0.11769568 0.11211021\n",
      " 0.11529117 0.10958046 0.10434565 0.1092799  0.11458986 0.11559173\n",
      " 0.12275517 0.12062617 0.12663745 0.13134627 0.12771446 0.13046963\n",
      " 0.13377583 0.12884158 0.12726362 0.13507827 0.13906074 0.14542267\n",
      " 0.14860363 0.1472511  0.14256731 0.14482154 0.14188156 0.14358531\n",
      " 0.14511479 0.14647475 0.14768735 0.14878167]\n",
      "6 day output [[0.1497864]]\n",
      "7 day input [0.10855354 0.11078272 0.10336882 0.09362555 0.08598622 0.10316844\n",
      " 0.10386976 0.10261741 0.09966187 0.0903444  0.08541014 0.08969317\n",
      " 0.08846587 0.09430182 0.09675642 0.0910958  0.07428929 0.06930495\n",
      " 0.0639449  0.06376957 0.07165936 0.06359424 0.0626675  0.05808391\n",
      " 0.04809017 0.05703193 0.05783344 0.04566061 0.04889167 0.04553538\n",
      " 0.05705698 0.05838447 0.05983719 0.06675016 0.06654978 0.06993112\n",
      " 0.07288666 0.07105823 0.07120852 0.07772073 0.08583594 0.08939261\n",
      " 0.08771446 0.09297433 0.09790858 0.09056982 0.09380088 0.09665623\n",
      " 0.11015654 0.11937383 0.11243582 0.11974953 0.11291171 0.11028178\n",
      " 0.11063244 0.11774577 0.11611772 0.12145272 0.11739512 0.11448967\n",
      " 0.10429555 0.10537257 0.10659987 0.09986224 0.10289292 0.10161553\n",
      " 0.09635567 0.09785848 0.11068253 0.11769568 0.11211021 0.11529117\n",
      " 0.10958046 0.10434565 0.1092799  0.11458986 0.11559173 0.12275517\n",
      " 0.12062617 0.12663745 0.13134627 0.12771446 0.13046963 0.13377583\n",
      " 0.12884158 0.12726362 0.13507827 0.13906074 0.14542267 0.14860363\n",
      " 0.1472511  0.14256731 0.14482154 0.14188156 0.14358531 0.14511479\n",
      " 0.14647475 0.14768735 0.14878167 0.1497864 ]\n",
      "7 day output [[0.15072694]]\n",
      "8 day input [0.11078272 0.10336882 0.09362555 0.08598622 0.10316844 0.10386976\n",
      " 0.10261741 0.09966187 0.0903444  0.08541014 0.08969317 0.08846587\n",
      " 0.09430182 0.09675642 0.0910958  0.07428929 0.06930495 0.0639449\n",
      " 0.06376957 0.07165936 0.06359424 0.0626675  0.05808391 0.04809017\n",
      " 0.05703193 0.05783344 0.04566061 0.04889167 0.04553538 0.05705698\n",
      " 0.05838447 0.05983719 0.06675016 0.06654978 0.06993112 0.07288666\n",
      " 0.07105823 0.07120852 0.07772073 0.08583594 0.08939261 0.08771446\n",
      " 0.09297433 0.09790858 0.09056982 0.09380088 0.09665623 0.11015654\n",
      " 0.11937383 0.11243582 0.11974953 0.11291171 0.11028178 0.11063244\n",
      " 0.11774577 0.11611772 0.12145272 0.11739512 0.11448967 0.10429555\n",
      " 0.10537257 0.10659987 0.09986224 0.10289292 0.10161553 0.09635567\n",
      " 0.09785848 0.11068253 0.11769568 0.11211021 0.11529117 0.10958046\n",
      " 0.10434565 0.1092799  0.11458986 0.11559173 0.12275517 0.12062617\n",
      " 0.12663745 0.13134627 0.12771446 0.13046963 0.13377583 0.12884158\n",
      " 0.12726362 0.13507827 0.13906074 0.14542267 0.14860363 0.1472511\n",
      " 0.14256731 0.14482154 0.14188156 0.14358531 0.14511479 0.14647475\n",
      " 0.14768735 0.14878167 0.1497864  0.15072694]\n",
      "8 day output [[0.15162355]]\n",
      "9 day input [0.10336882 0.09362555 0.08598622 0.10316844 0.10386976 0.10261741\n",
      " 0.09966187 0.0903444  0.08541014 0.08969317 0.08846587 0.09430182\n",
      " 0.09675642 0.0910958  0.07428929 0.06930495 0.0639449  0.06376957\n",
      " 0.07165936 0.06359424 0.0626675  0.05808391 0.04809017 0.05703193\n",
      " 0.05783344 0.04566061 0.04889167 0.04553538 0.05705698 0.05838447\n",
      " 0.05983719 0.06675016 0.06654978 0.06993112 0.07288666 0.07105823\n",
      " 0.07120852 0.07772073 0.08583594 0.08939261 0.08771446 0.09297433\n",
      " 0.09790858 0.09056982 0.09380088 0.09665623 0.11015654 0.11937383\n",
      " 0.11243582 0.11974953 0.11291171 0.11028178 0.11063244 0.11774577\n",
      " 0.11611772 0.12145272 0.11739512 0.11448967 0.10429555 0.10537257\n",
      " 0.10659987 0.09986224 0.10289292 0.10161553 0.09635567 0.09785848\n",
      " 0.11068253 0.11769568 0.11211021 0.11529117 0.10958046 0.10434565\n",
      " 0.1092799  0.11458986 0.11559173 0.12275517 0.12062617 0.12663745\n",
      " 0.13134627 0.12771446 0.13046963 0.13377583 0.12884158 0.12726362\n",
      " 0.13507827 0.13906074 0.14542267 0.14860363 0.1472511  0.14256731\n",
      " 0.14482154 0.14188156 0.14358531 0.14511479 0.14647475 0.14768735\n",
      " 0.14878167 0.1497864  0.15072694 0.15162355]\n",
      "9 day output [[0.15249135]]\n",
      "10 day input [0.09362555 0.08598622 0.10316844 0.10386976 0.10261741 0.09966187\n",
      " 0.0903444  0.08541014 0.08969317 0.08846587 0.09430182 0.09675642\n",
      " 0.0910958  0.07428929 0.06930495 0.0639449  0.06376957 0.07165936\n",
      " 0.06359424 0.0626675  0.05808391 0.04809017 0.05703193 0.05783344\n",
      " 0.04566061 0.04889167 0.04553538 0.05705698 0.05838447 0.05983719\n",
      " 0.06675016 0.06654978 0.06993112 0.07288666 0.07105823 0.07120852\n",
      " 0.07772073 0.08583594 0.08939261 0.08771446 0.09297433 0.09790858\n",
      " 0.09056982 0.09380088 0.09665623 0.11015654 0.11937383 0.11243582\n",
      " 0.11974953 0.11291171 0.11028178 0.11063244 0.11774577 0.11611772\n",
      " 0.12145272 0.11739512 0.11448967 0.10429555 0.10537257 0.10659987\n",
      " 0.09986224 0.10289292 0.10161553 0.09635567 0.09785848 0.11068253\n",
      " 0.11769568 0.11211021 0.11529117 0.10958046 0.10434565 0.1092799\n",
      " 0.11458986 0.11559173 0.12275517 0.12062617 0.12663745 0.13134627\n",
      " 0.12771446 0.13046963 0.13377583 0.12884158 0.12726362 0.13507827\n",
      " 0.13906074 0.14542267 0.14860363 0.1472511  0.14256731 0.14482154\n",
      " 0.14188156 0.14358531 0.14511479 0.14647475 0.14768735 0.14878167\n",
      " 0.1497864  0.15072694 0.15162355 0.15249135]\n",
      "10 day output [[0.15334092]]\n",
      "11 day input [0.08598622 0.10316844 0.10386976 0.10261741 0.09966187 0.0903444\n",
      " 0.08541014 0.08969317 0.08846587 0.09430182 0.09675642 0.0910958\n",
      " 0.07428929 0.06930495 0.0639449  0.06376957 0.07165936 0.06359424\n",
      " 0.0626675  0.05808391 0.04809017 0.05703193 0.05783344 0.04566061\n",
      " 0.04889167 0.04553538 0.05705698 0.05838447 0.05983719 0.06675016\n",
      " 0.06654978 0.06993112 0.07288666 0.07105823 0.07120852 0.07772073\n",
      " 0.08583594 0.08939261 0.08771446 0.09297433 0.09790858 0.09056982\n",
      " 0.09380088 0.09665623 0.11015654 0.11937383 0.11243582 0.11974953\n",
      " 0.11291171 0.11028178 0.11063244 0.11774577 0.11611772 0.12145272\n",
      " 0.11739512 0.11448967 0.10429555 0.10537257 0.10659987 0.09986224\n",
      " 0.10289292 0.10161553 0.09635567 0.09785848 0.11068253 0.11769568\n",
      " 0.11211021 0.11529117 0.10958046 0.10434565 0.1092799  0.11458986\n",
      " 0.11559173 0.12275517 0.12062617 0.12663745 0.13134627 0.12771446\n",
      " 0.13046963 0.13377583 0.12884158 0.12726362 0.13507827 0.13906074\n",
      " 0.14542267 0.14860363 0.1472511  0.14256731 0.14482154 0.14188156\n",
      " 0.14358531 0.14511479 0.14647475 0.14768735 0.14878167 0.1497864\n",
      " 0.15072694 0.15162355 0.15249135 0.15334092]\n",
      "11 day output [[0.15417905]]\n",
      "12 day input [0.10316844 0.10386976 0.10261741 0.09966187 0.0903444  0.08541014\n",
      " 0.08969317 0.08846587 0.09430182 0.09675642 0.0910958  0.07428929\n",
      " 0.06930495 0.0639449  0.06376957 0.07165936 0.06359424 0.0626675\n",
      " 0.05808391 0.04809017 0.05703193 0.05783344 0.04566061 0.04889167\n",
      " 0.04553538 0.05705698 0.05838447 0.05983719 0.06675016 0.06654978\n",
      " 0.06993112 0.07288666 0.07105823 0.07120852 0.07772073 0.08583594\n",
      " 0.08939261 0.08771446 0.09297433 0.09790858 0.09056982 0.09380088\n",
      " 0.09665623 0.11015654 0.11937383 0.11243582 0.11974953 0.11291171\n",
      " 0.11028178 0.11063244 0.11774577 0.11611772 0.12145272 0.11739512\n",
      " 0.11448967 0.10429555 0.10537257 0.10659987 0.09986224 0.10289292\n",
      " 0.10161553 0.09635567 0.09785848 0.11068253 0.11769568 0.11211021\n",
      " 0.11529117 0.10958046 0.10434565 0.1092799  0.11458986 0.11559173\n",
      " 0.12275517 0.12062617 0.12663745 0.13134627 0.12771446 0.13046963\n",
      " 0.13377583 0.12884158 0.12726362 0.13507827 0.13906074 0.14542267\n",
      " 0.14860363 0.1472511  0.14256731 0.14482154 0.14188156 0.14358531\n",
      " 0.14511479 0.14647475 0.14768735 0.14878167 0.1497864  0.15072694\n",
      " 0.15162355 0.15249135 0.15334092 0.15417905]\n",
      "12 day output [[0.15500991]]\n",
      "13 day input [0.10386976 0.10261741 0.09966187 0.0903444  0.08541014 0.08969317\n",
      " 0.08846587 0.09430182 0.09675642 0.0910958  0.07428929 0.06930495\n",
      " 0.0639449  0.06376957 0.07165936 0.06359424 0.0626675  0.05808391\n",
      " 0.04809017 0.05703193 0.05783344 0.04566061 0.04889167 0.04553538\n",
      " 0.05705698 0.05838447 0.05983719 0.06675016 0.06654978 0.06993112\n",
      " 0.07288666 0.07105823 0.07120852 0.07772073 0.08583594 0.08939261\n",
      " 0.08771446 0.09297433 0.09790858 0.09056982 0.09380088 0.09665623\n",
      " 0.11015654 0.11937383 0.11243582 0.11974953 0.11291171 0.11028178\n",
      " 0.11063244 0.11774577 0.11611772 0.12145272 0.11739512 0.11448967\n",
      " 0.10429555 0.10537257 0.10659987 0.09986224 0.10289292 0.10161553\n",
      " 0.09635567 0.09785848 0.11068253 0.11769568 0.11211021 0.11529117\n",
      " 0.10958046 0.10434565 0.1092799  0.11458986 0.11559173 0.12275517\n",
      " 0.12062617 0.12663745 0.13134627 0.12771446 0.13046963 0.13377583\n",
      " 0.12884158 0.12726362 0.13507827 0.13906074 0.14542267 0.14860363\n",
      " 0.1472511  0.14256731 0.14482154 0.14188156 0.14358531 0.14511479\n",
      " 0.14647475 0.14768735 0.14878167 0.1497864  0.15072694 0.15162355\n",
      " 0.15249135 0.15334092 0.15417905 0.15500991]\n",
      "13 day output [[0.15583555]]\n",
      "14 day input [0.10261741 0.09966187 0.0903444  0.08541014 0.08969317 0.08846587\n",
      " 0.09430182 0.09675642 0.0910958  0.07428929 0.06930495 0.0639449\n",
      " 0.06376957 0.07165936 0.06359424 0.0626675  0.05808391 0.04809017\n",
      " 0.05703193 0.05783344 0.04566061 0.04889167 0.04553538 0.05705698\n",
      " 0.05838447 0.05983719 0.06675016 0.06654978 0.06993112 0.07288666\n",
      " 0.07105823 0.07120852 0.07772073 0.08583594 0.08939261 0.08771446\n",
      " 0.09297433 0.09790858 0.09056982 0.09380088 0.09665623 0.11015654\n",
      " 0.11937383 0.11243582 0.11974953 0.11291171 0.11028178 0.11063244\n",
      " 0.11774577 0.11611772 0.12145272 0.11739512 0.11448967 0.10429555\n",
      " 0.10537257 0.10659987 0.09986224 0.10289292 0.10161553 0.09635567\n",
      " 0.09785848 0.11068253 0.11769568 0.11211021 0.11529117 0.10958046\n",
      " 0.10434565 0.1092799  0.11458986 0.11559173 0.12275517 0.12062617\n",
      " 0.12663745 0.13134627 0.12771446 0.13046963 0.13377583 0.12884158\n",
      " 0.12726362 0.13507827 0.13906074 0.14542267 0.14860363 0.1472511\n",
      " 0.14256731 0.14482154 0.14188156 0.14358531 0.14511479 0.14647475\n",
      " 0.14768735 0.14878167 0.1497864  0.15072694 0.15162355 0.15249135\n",
      " 0.15334092 0.15417905 0.15500991 0.15583555]\n",
      "14 day output [[0.15665694]]\n",
      "15 day input [0.09966187 0.0903444  0.08541014 0.08969317 0.08846587 0.09430182\n",
      " 0.09675642 0.0910958  0.07428929 0.06930495 0.0639449  0.06376957\n",
      " 0.07165936 0.06359424 0.0626675  0.05808391 0.04809017 0.05703193\n",
      " 0.05783344 0.04566061 0.04889167 0.04553538 0.05705698 0.05838447\n",
      " 0.05983719 0.06675016 0.06654978 0.06993112 0.07288666 0.07105823\n",
      " 0.07120852 0.07772073 0.08583594 0.08939261 0.08771446 0.09297433\n",
      " 0.09790858 0.09056982 0.09380088 0.09665623 0.11015654 0.11937383\n",
      " 0.11243582 0.11974953 0.11291171 0.11028178 0.11063244 0.11774577\n",
      " 0.11611772 0.12145272 0.11739512 0.11448967 0.10429555 0.10537257\n",
      " 0.10659987 0.09986224 0.10289292 0.10161553 0.09635567 0.09785848\n",
      " 0.11068253 0.11769568 0.11211021 0.11529117 0.10958046 0.10434565\n",
      " 0.1092799  0.11458986 0.11559173 0.12275517 0.12062617 0.12663745\n",
      " 0.13134627 0.12771446 0.13046963 0.13377583 0.12884158 0.12726362\n",
      " 0.13507827 0.13906074 0.14542267 0.14860363 0.1472511  0.14256731\n",
      " 0.14482154 0.14188156 0.14358531 0.14511479 0.14647475 0.14768735\n",
      " 0.14878167 0.1497864  0.15072694 0.15162355 0.15249135 0.15334092\n",
      " 0.15417905 0.15500991 0.15583555 0.15665694]\n",
      "15 day output [[0.15747419]]\n",
      "16 day input [0.0903444  0.08541014 0.08969317 0.08846587 0.09430182 0.09675642\n",
      " 0.0910958  0.07428929 0.06930495 0.0639449  0.06376957 0.07165936\n",
      " 0.06359424 0.0626675  0.05808391 0.04809017 0.05703193 0.05783344\n",
      " 0.04566061 0.04889167 0.04553538 0.05705698 0.05838447 0.05983719\n",
      " 0.06675016 0.06654978 0.06993112 0.07288666 0.07105823 0.07120852\n",
      " 0.07772073 0.08583594 0.08939261 0.08771446 0.09297433 0.09790858\n",
      " 0.09056982 0.09380088 0.09665623 0.11015654 0.11937383 0.11243582\n",
      " 0.11974953 0.11291171 0.11028178 0.11063244 0.11774577 0.11611772\n",
      " 0.12145272 0.11739512 0.11448967 0.10429555 0.10537257 0.10659987\n",
      " 0.09986224 0.10289292 0.10161553 0.09635567 0.09785848 0.11068253\n",
      " 0.11769568 0.11211021 0.11529117 0.10958046 0.10434565 0.1092799\n",
      " 0.11458986 0.11559173 0.12275517 0.12062617 0.12663745 0.13134627\n",
      " 0.12771446 0.13046963 0.13377583 0.12884158 0.12726362 0.13507827\n",
      " 0.13906074 0.14542267 0.14860363 0.1472511  0.14256731 0.14482154\n",
      " 0.14188156 0.14358531 0.14511479 0.14647475 0.14768735 0.14878167\n",
      " 0.1497864  0.15072694 0.15162355 0.15249135 0.15334092 0.15417905\n",
      " 0.15500991 0.15583555 0.15665694 0.15747419]\n",
      "16 day output [[0.15828703]]\n",
      "17 day input [0.08541014 0.08969317 0.08846587 0.09430182 0.09675642 0.0910958\n",
      " 0.07428929 0.06930495 0.0639449  0.06376957 0.07165936 0.06359424\n",
      " 0.0626675  0.05808391 0.04809017 0.05703193 0.05783344 0.04566061\n",
      " 0.04889167 0.04553538 0.05705698 0.05838447 0.05983719 0.06675016\n",
      " 0.06654978 0.06993112 0.07288666 0.07105823 0.07120852 0.07772073\n",
      " 0.08583594 0.08939261 0.08771446 0.09297433 0.09790858 0.09056982\n",
      " 0.09380088 0.09665623 0.11015654 0.11937383 0.11243582 0.11974953\n",
      " 0.11291171 0.11028178 0.11063244 0.11774577 0.11611772 0.12145272\n",
      " 0.11739512 0.11448967 0.10429555 0.10537257 0.10659987 0.09986224\n",
      " 0.10289292 0.10161553 0.09635567 0.09785848 0.11068253 0.11769568\n",
      " 0.11211021 0.11529117 0.10958046 0.10434565 0.1092799  0.11458986\n",
      " 0.11559173 0.12275517 0.12062617 0.12663745 0.13134627 0.12771446\n",
      " 0.13046963 0.13377583 0.12884158 0.12726362 0.13507827 0.13906074\n",
      " 0.14542267 0.14860363 0.1472511  0.14256731 0.14482154 0.14188156\n",
      " 0.14358531 0.14511479 0.14647475 0.14768735 0.14878167 0.1497864\n",
      " 0.15072694 0.15162355 0.15249135 0.15334092 0.15417905 0.15500991\n",
      " 0.15583555 0.15665694 0.15747419 0.15828703]\n",
      "17 day output [[0.15909505]]\n",
      "18 day input [0.08969317 0.08846587 0.09430182 0.09675642 0.0910958  0.07428929\n",
      " 0.06930495 0.0639449  0.06376957 0.07165936 0.06359424 0.0626675\n",
      " 0.05808391 0.04809017 0.05703193 0.05783344 0.04566061 0.04889167\n",
      " 0.04553538 0.05705698 0.05838447 0.05983719 0.06675016 0.06654978\n",
      " 0.06993112 0.07288666 0.07105823 0.07120852 0.07772073 0.08583594\n",
      " 0.08939261 0.08771446 0.09297433 0.09790858 0.09056982 0.09380088\n",
      " 0.09665623 0.11015654 0.11937383 0.11243582 0.11974953 0.11291171\n",
      " 0.11028178 0.11063244 0.11774577 0.11611772 0.12145272 0.11739512\n",
      " 0.11448967 0.10429555 0.10537257 0.10659987 0.09986224 0.10289292\n",
      " 0.10161553 0.09635567 0.09785848 0.11068253 0.11769568 0.11211021\n",
      " 0.11529117 0.10958046 0.10434565 0.1092799  0.11458986 0.11559173\n",
      " 0.12275517 0.12062617 0.12663745 0.13134627 0.12771446 0.13046963\n",
      " 0.13377583 0.12884158 0.12726362 0.13507827 0.13906074 0.14542267\n",
      " 0.14860363 0.1472511  0.14256731 0.14482154 0.14188156 0.14358531\n",
      " 0.14511479 0.14647475 0.14768735 0.14878167 0.1497864  0.15072694\n",
      " 0.15162355 0.15249135 0.15334092 0.15417905 0.15500991 0.15583555\n",
      " 0.15665694 0.15747419 0.15828703 0.15909505]\n",
      "18 day output [[0.15989786]]\n",
      "19 day input [0.08846587 0.09430182 0.09675642 0.0910958  0.07428929 0.06930495\n",
      " 0.0639449  0.06376957 0.07165936 0.06359424 0.0626675  0.05808391\n",
      " 0.04809017 0.05703193 0.05783344 0.04566061 0.04889167 0.04553538\n",
      " 0.05705698 0.05838447 0.05983719 0.06675016 0.06654978 0.06993112\n",
      " 0.07288666 0.07105823 0.07120852 0.07772073 0.08583594 0.08939261\n",
      " 0.08771446 0.09297433 0.09790858 0.09056982 0.09380088 0.09665623\n",
      " 0.11015654 0.11937383 0.11243582 0.11974953 0.11291171 0.11028178\n",
      " 0.11063244 0.11774577 0.11611772 0.12145272 0.11739512 0.11448967\n",
      " 0.10429555 0.10537257 0.10659987 0.09986224 0.10289292 0.10161553\n",
      " 0.09635567 0.09785848 0.11068253 0.11769568 0.11211021 0.11529117\n",
      " 0.10958046 0.10434565 0.1092799  0.11458986 0.11559173 0.12275517\n",
      " 0.12062617 0.12663745 0.13134627 0.12771446 0.13046963 0.13377583\n",
      " 0.12884158 0.12726362 0.13507827 0.13906074 0.14542267 0.14860363\n",
      " 0.1472511  0.14256731 0.14482154 0.14188156 0.14358531 0.14511479\n",
      " 0.14647475 0.14768735 0.14878167 0.1497864  0.15072694 0.15162355\n",
      " 0.15249135 0.15334092 0.15417905 0.15500991 0.15583555 0.15665694\n",
      " 0.15747419 0.15828703 0.15909505 0.15989786]\n",
      "19 day output [[0.16069509]]\n",
      "20 day input [0.09430182 0.09675642 0.0910958  0.07428929 0.06930495 0.0639449\n",
      " 0.06376957 0.07165936 0.06359424 0.0626675  0.05808391 0.04809017\n",
      " 0.05703193 0.05783344 0.04566061 0.04889167 0.04553538 0.05705698\n",
      " 0.05838447 0.05983719 0.06675016 0.06654978 0.06993112 0.07288666\n",
      " 0.07105823 0.07120852 0.07772073 0.08583594 0.08939261 0.08771446\n",
      " 0.09297433 0.09790858 0.09056982 0.09380088 0.09665623 0.11015654\n",
      " 0.11937383 0.11243582 0.11974953 0.11291171 0.11028178 0.11063244\n",
      " 0.11774577 0.11611772 0.12145272 0.11739512 0.11448967 0.10429555\n",
      " 0.10537257 0.10659987 0.09986224 0.10289292 0.10161553 0.09635567\n",
      " 0.09785848 0.11068253 0.11769568 0.11211021 0.11529117 0.10958046\n",
      " 0.10434565 0.1092799  0.11458986 0.11559173 0.12275517 0.12062617\n",
      " 0.12663745 0.13134627 0.12771446 0.13046963 0.13377583 0.12884158\n",
      " 0.12726362 0.13507827 0.13906074 0.14542267 0.14860363 0.1472511\n",
      " 0.14256731 0.14482154 0.14188156 0.14358531 0.14511479 0.14647475\n",
      " 0.14768735 0.14878167 0.1497864  0.15072694 0.15162355 0.15249135\n",
      " 0.15334092 0.15417905 0.15500991 0.15583555 0.15665694 0.15747419\n",
      " 0.15828703 0.15909505 0.15989786 0.16069509]\n",
      "20 day output [[0.1614865]]\n",
      "21 day input [0.09675642 0.0910958  0.07428929 0.06930495 0.0639449  0.06376957\n",
      " 0.07165936 0.06359424 0.0626675  0.05808391 0.04809017 0.05703193\n",
      " 0.05783344 0.04566061 0.04889167 0.04553538 0.05705698 0.05838447\n",
      " 0.05983719 0.06675016 0.06654978 0.06993112 0.07288666 0.07105823\n",
      " 0.07120852 0.07772073 0.08583594 0.08939261 0.08771446 0.09297433\n",
      " 0.09790858 0.09056982 0.09380088 0.09665623 0.11015654 0.11937383\n",
      " 0.11243582 0.11974953 0.11291171 0.11028178 0.11063244 0.11774577\n",
      " 0.11611772 0.12145272 0.11739512 0.11448967 0.10429555 0.10537257\n",
      " 0.10659987 0.09986224 0.10289292 0.10161553 0.09635567 0.09785848\n",
      " 0.11068253 0.11769568 0.11211021 0.11529117 0.10958046 0.10434565\n",
      " 0.1092799  0.11458986 0.11559173 0.12275517 0.12062617 0.12663745\n",
      " 0.13134627 0.12771446 0.13046963 0.13377583 0.12884158 0.12726362\n",
      " 0.13507827 0.13906074 0.14542267 0.14860363 0.1472511  0.14256731\n",
      " 0.14482154 0.14188156 0.14358531 0.14511479 0.14647475 0.14768735\n",
      " 0.14878167 0.1497864  0.15072694 0.15162355 0.15249135 0.15334092\n",
      " 0.15417905 0.15500991 0.15583555 0.15665694 0.15747419 0.15828703\n",
      " 0.15909505 0.15989786 0.16069509 0.16148651]\n",
      "21 day output [[0.16227189]]\n",
      "22 day input [0.0910958  0.07428929 0.06930495 0.0639449  0.06376957 0.07165936\n",
      " 0.06359424 0.0626675  0.05808391 0.04809017 0.05703193 0.05783344\n",
      " 0.04566061 0.04889167 0.04553538 0.05705698 0.05838447 0.05983719\n",
      " 0.06675016 0.06654978 0.06993112 0.07288666 0.07105823 0.07120852\n",
      " 0.07772073 0.08583594 0.08939261 0.08771446 0.09297433 0.09790858\n",
      " 0.09056982 0.09380088 0.09665623 0.11015654 0.11937383 0.11243582\n",
      " 0.11974953 0.11291171 0.11028178 0.11063244 0.11774577 0.11611772\n",
      " 0.12145272 0.11739512 0.11448967 0.10429555 0.10537257 0.10659987\n",
      " 0.09986224 0.10289292 0.10161553 0.09635567 0.09785848 0.11068253\n",
      " 0.11769568 0.11211021 0.11529117 0.10958046 0.10434565 0.1092799\n",
      " 0.11458986 0.11559173 0.12275517 0.12062617 0.12663745 0.13134627\n",
      " 0.12771446 0.13046963 0.13377583 0.12884158 0.12726362 0.13507827\n",
      " 0.13906074 0.14542267 0.14860363 0.1472511  0.14256731 0.14482154\n",
      " 0.14188156 0.14358531 0.14511479 0.14647475 0.14768735 0.14878167\n",
      " 0.1497864  0.15072694 0.15162355 0.15249135 0.15334092 0.15417905\n",
      " 0.15500991 0.15583555 0.15665694 0.15747419 0.15828703 0.15909505\n",
      " 0.15989786 0.16069509 0.16148651 0.16227189]\n",
      "22 day output [[0.1630512]]\n",
      "23 day input [0.07428929 0.06930495 0.0639449  0.06376957 0.07165936 0.06359424\n",
      " 0.0626675  0.05808391 0.04809017 0.05703193 0.05783344 0.04566061\n",
      " 0.04889167 0.04553538 0.05705698 0.05838447 0.05983719 0.06675016\n",
      " 0.06654978 0.06993112 0.07288666 0.07105823 0.07120852 0.07772073\n",
      " 0.08583594 0.08939261 0.08771446 0.09297433 0.09790858 0.09056982\n",
      " 0.09380088 0.09665623 0.11015654 0.11937383 0.11243582 0.11974953\n",
      " 0.11291171 0.11028178 0.11063244 0.11774577 0.11611772 0.12145272\n",
      " 0.11739512 0.11448967 0.10429555 0.10537257 0.10659987 0.09986224\n",
      " 0.10289292 0.10161553 0.09635567 0.09785848 0.11068253 0.11769568\n",
      " 0.11211021 0.11529117 0.10958046 0.10434565 0.1092799  0.11458986\n",
      " 0.11559173 0.12275517 0.12062617 0.12663745 0.13134627 0.12771446\n",
      " 0.13046963 0.13377583 0.12884158 0.12726362 0.13507827 0.13906074\n",
      " 0.14542267 0.14860363 0.1472511  0.14256731 0.14482154 0.14188156\n",
      " 0.14358531 0.14511479 0.14647475 0.14768735 0.14878167 0.1497864\n",
      " 0.15072694 0.15162355 0.15249135 0.15334092 0.15417905 0.15500991\n",
      " 0.15583555 0.15665694 0.15747419 0.15828703 0.15909505 0.15989786\n",
      " 0.16069509 0.16148651 0.16227189 0.1630512 ]\n",
      "23 day output [[0.16382438]]\n",
      "24 day input [0.06930495 0.0639449  0.06376957 0.07165936 0.06359424 0.0626675\n",
      " 0.05808391 0.04809017 0.05703193 0.05783344 0.04566061 0.04889167\n",
      " 0.04553538 0.05705698 0.05838447 0.05983719 0.06675016 0.06654978\n",
      " 0.06993112 0.07288666 0.07105823 0.07120852 0.07772073 0.08583594\n",
      " 0.08939261 0.08771446 0.09297433 0.09790858 0.09056982 0.09380088\n",
      " 0.09665623 0.11015654 0.11937383 0.11243582 0.11974953 0.11291171\n",
      " 0.11028178 0.11063244 0.11774577 0.11611772 0.12145272 0.11739512\n",
      " 0.11448967 0.10429555 0.10537257 0.10659987 0.09986224 0.10289292\n",
      " 0.10161553 0.09635567 0.09785848 0.11068253 0.11769568 0.11211021\n",
      " 0.11529117 0.10958046 0.10434565 0.1092799  0.11458986 0.11559173\n",
      " 0.12275517 0.12062617 0.12663745 0.13134627 0.12771446 0.13046963\n",
      " 0.13377583 0.12884158 0.12726362 0.13507827 0.13906074 0.14542267\n",
      " 0.14860363 0.1472511  0.14256731 0.14482154 0.14188156 0.14358531\n",
      " 0.14511479 0.14647475 0.14768735 0.14878167 0.1497864  0.15072694\n",
      " 0.15162355 0.15249135 0.15334092 0.15417905 0.15500991 0.15583555\n",
      " 0.15665694 0.15747419 0.15828703 0.15909505 0.15989786 0.16069509\n",
      " 0.16148651 0.16227189 0.1630512  0.16382438]\n",
      "24 day output [[0.16459143]]\n",
      "25 day input [0.0639449  0.06376957 0.07165936 0.06359424 0.0626675  0.05808391\n",
      " 0.04809017 0.05703193 0.05783344 0.04566061 0.04889167 0.04553538\n",
      " 0.05705698 0.05838447 0.05983719 0.06675016 0.06654978 0.06993112\n",
      " 0.07288666 0.07105823 0.07120852 0.07772073 0.08583594 0.08939261\n",
      " 0.08771446 0.09297433 0.09790858 0.09056982 0.09380088 0.09665623\n",
      " 0.11015654 0.11937383 0.11243582 0.11974953 0.11291171 0.11028178\n",
      " 0.11063244 0.11774577 0.11611772 0.12145272 0.11739512 0.11448967\n",
      " 0.10429555 0.10537257 0.10659987 0.09986224 0.10289292 0.10161553\n",
      " 0.09635567 0.09785848 0.11068253 0.11769568 0.11211021 0.11529117\n",
      " 0.10958046 0.10434565 0.1092799  0.11458986 0.11559173 0.12275517\n",
      " 0.12062617 0.12663745 0.13134627 0.12771446 0.13046963 0.13377583\n",
      " 0.12884158 0.12726362 0.13507827 0.13906074 0.14542267 0.14860363\n",
      " 0.1472511  0.14256731 0.14482154 0.14188156 0.14358531 0.14511479\n",
      " 0.14647475 0.14768735 0.14878167 0.1497864  0.15072694 0.15162355\n",
      " 0.15249135 0.15334092 0.15417905 0.15500991 0.15583555 0.15665694\n",
      " 0.15747419 0.15828703 0.15909505 0.15989786 0.16069509 0.16148651\n",
      " 0.16227189 0.1630512  0.16382438 0.16459143]\n",
      "25 day output [[0.16535243]]\n",
      "26 day input [0.06376957 0.07165936 0.06359424 0.0626675  0.05808391 0.04809017\n",
      " 0.05703193 0.05783344 0.04566061 0.04889167 0.04553538 0.05705698\n",
      " 0.05838447 0.05983719 0.06675016 0.06654978 0.06993112 0.07288666\n",
      " 0.07105823 0.07120852 0.07772073 0.08583594 0.08939261 0.08771446\n",
      " 0.09297433 0.09790858 0.09056982 0.09380088 0.09665623 0.11015654\n",
      " 0.11937383 0.11243582 0.11974953 0.11291171 0.11028178 0.11063244\n",
      " 0.11774577 0.11611772 0.12145272 0.11739512 0.11448967 0.10429555\n",
      " 0.10537257 0.10659987 0.09986224 0.10289292 0.10161553 0.09635567\n",
      " 0.09785848 0.11068253 0.11769568 0.11211021 0.11529117 0.10958046\n",
      " 0.10434565 0.1092799  0.11458986 0.11559173 0.12275517 0.12062617\n",
      " 0.12663745 0.13134627 0.12771446 0.13046963 0.13377583 0.12884158\n",
      " 0.12726362 0.13507827 0.13906074 0.14542267 0.14860363 0.1472511\n",
      " 0.14256731 0.14482154 0.14188156 0.14358531 0.14511479 0.14647475\n",
      " 0.14768735 0.14878167 0.1497864  0.15072694 0.15162355 0.15249135\n",
      " 0.15334092 0.15417905 0.15500991 0.15583555 0.15665694 0.15747419\n",
      " 0.15828703 0.15909505 0.15989786 0.16069509 0.16148651 0.16227189\n",
      " 0.1630512  0.16382438 0.16459143 0.16535243]\n",
      "26 day output [[0.16610737]]\n",
      "27 day input [0.07165936 0.06359424 0.0626675  0.05808391 0.04809017 0.05703193\n",
      " 0.05783344 0.04566061 0.04889167 0.04553538 0.05705698 0.05838447\n",
      " 0.05983719 0.06675016 0.06654978 0.06993112 0.07288666 0.07105823\n",
      " 0.07120852 0.07772073 0.08583594 0.08939261 0.08771446 0.09297433\n",
      " 0.09790858 0.09056982 0.09380088 0.09665623 0.11015654 0.11937383\n",
      " 0.11243582 0.11974953 0.11291171 0.11028178 0.11063244 0.11774577\n",
      " 0.11611772 0.12145272 0.11739512 0.11448967 0.10429555 0.10537257\n",
      " 0.10659987 0.09986224 0.10289292 0.10161553 0.09635567 0.09785848\n",
      " 0.11068253 0.11769568 0.11211021 0.11529117 0.10958046 0.10434565\n",
      " 0.1092799  0.11458986 0.11559173 0.12275517 0.12062617 0.12663745\n",
      " 0.13134627 0.12771446 0.13046963 0.13377583 0.12884158 0.12726362\n",
      " 0.13507827 0.13906074 0.14542267 0.14860363 0.1472511  0.14256731\n",
      " 0.14482154 0.14188156 0.14358531 0.14511479 0.14647475 0.14768735\n",
      " 0.14878167 0.1497864  0.15072694 0.15162355 0.15249135 0.15334092\n",
      " 0.15417905 0.15500991 0.15583555 0.15665694 0.15747419 0.15828703\n",
      " 0.15909505 0.15989786 0.16069509 0.16148651 0.16227189 0.1630512\n",
      " 0.16382438 0.16459143 0.16535243 0.16610737]\n",
      "27 day output [[0.16685638]]\n",
      "28 day input [0.06359424 0.0626675  0.05808391 0.04809017 0.05703193 0.05783344\n",
      " 0.04566061 0.04889167 0.04553538 0.05705698 0.05838447 0.05983719\n",
      " 0.06675016 0.06654978 0.06993112 0.07288666 0.07105823 0.07120852\n",
      " 0.07772073 0.08583594 0.08939261 0.08771446 0.09297433 0.09790858\n",
      " 0.09056982 0.09380088 0.09665623 0.11015654 0.11937383 0.11243582\n",
      " 0.11974953 0.11291171 0.11028178 0.11063244 0.11774577 0.11611772\n",
      " 0.12145272 0.11739512 0.11448967 0.10429555 0.10537257 0.10659987\n",
      " 0.09986224 0.10289292 0.10161553 0.09635567 0.09785848 0.11068253\n",
      " 0.11769568 0.11211021 0.11529117 0.10958046 0.10434565 0.1092799\n",
      " 0.11458986 0.11559173 0.12275517 0.12062617 0.12663745 0.13134627\n",
      " 0.12771446 0.13046963 0.13377583 0.12884158 0.12726362 0.13507827\n",
      " 0.13906074 0.14542267 0.14860363 0.1472511  0.14256731 0.14482154\n",
      " 0.14188156 0.14358531 0.14511479 0.14647475 0.14768735 0.14878167\n",
      " 0.1497864  0.15072694 0.15162355 0.15249135 0.15334092 0.15417905\n",
      " 0.15500991 0.15583555 0.15665694 0.15747419 0.15828703 0.15909505\n",
      " 0.15989786 0.16069509 0.16148651 0.16227189 0.1630512  0.16382438\n",
      " 0.16459143 0.16535243 0.16610737 0.16685638]\n",
      "28 day output [[0.16759941]]\n",
      "29 day input [0.0626675  0.05808391 0.04809017 0.05703193 0.05783344 0.04566061\n",
      " 0.04889167 0.04553538 0.05705698 0.05838447 0.05983719 0.06675016\n",
      " 0.06654978 0.06993112 0.07288666 0.07105823 0.07120852 0.07772073\n",
      " 0.08583594 0.08939261 0.08771446 0.09297433 0.09790858 0.09056982\n",
      " 0.09380088 0.09665623 0.11015654 0.11937383 0.11243582 0.11974953\n",
      " 0.11291171 0.11028178 0.11063244 0.11774577 0.11611772 0.12145272\n",
      " 0.11739512 0.11448967 0.10429555 0.10537257 0.10659987 0.09986224\n",
      " 0.10289292 0.10161553 0.09635567 0.09785848 0.11068253 0.11769568\n",
      " 0.11211021 0.11529117 0.10958046 0.10434565 0.1092799  0.11458986\n",
      " 0.11559173 0.12275517 0.12062617 0.12663745 0.13134627 0.12771446\n",
      " 0.13046963 0.13377583 0.12884158 0.12726362 0.13507827 0.13906074\n",
      " 0.14542267 0.14860363 0.1472511  0.14256731 0.14482154 0.14188156\n",
      " 0.14358531 0.14511479 0.14647475 0.14768735 0.14878167 0.1497864\n",
      " 0.15072694 0.15162355 0.15249135 0.15334092 0.15417905 0.15500991\n",
      " 0.15583555 0.15665694 0.15747419 0.15828703 0.15909505 0.15989786\n",
      " 0.16069509 0.16148651 0.16227189 0.1630512  0.16382438 0.16459143\n",
      " 0.16535243 0.16610737 0.16685638 0.16759941]\n",
      "29 day output [[0.16833661]]\n",
      "[[0.1418815553188324], [0.14358530938625336], [0.14511479437351227], [0.14647474884986877], [0.14768734574317932], [0.1487816721200943], [0.14978639781475067], [0.15072694420814514], [0.15162354707717896], [0.15249134600162506], [0.1533409208059311], [0.15417905151844025], [0.1550099104642868], [0.15583555400371552], [0.15665693581104279], [0.15747418999671936], [0.15828703343868256], [0.15909504890441895], [0.15989786386489868], [0.16069509088993073], [0.16148650646209717], [0.1622718870639801], [0.16305120289325714], [0.16382437944412231], [0.16459143161773682], [0.16535243391990662], [0.16610737144947052], [0.16685637831687927], [0.1675994098186493], [0.16833661496639252]]\n"
     ]
    }
   ],
   "source": [
    "# demonstrate prediction for next 10 days\n",
    "from numpy import array\n",
    "\n",
    "lst_output=[]\n",
    "n_steps=100\n",
    "i=0\n",
    "while(i<30):\n",
    "    \n",
    "    if(len(temp_input)>100):\n",
    "        #print(temp_input)\n",
    "        x_input=np.array(temp_input[1:])\n",
    "        print(\"{} day input {}\".format(i,x_input))\n",
    "        x_input=x_input.reshape(1,-1)\n",
    "        x_input = x_input.reshape((1, n_steps, 1))\n",
    "        #print(x_input)\n",
    "        yhat = model.predict(x_input, verbose=0)\n",
    "        print(\"{} day output {}\".format(i,yhat))\n",
    "        temp_input.extend(yhat[0].tolist())\n",
    "        temp_input=temp_input[1:]\n",
    "        #print(temp_input)\n",
    "        lst_output.extend(yhat.tolist())\n",
    "        i=i+1\n",
    "    else:\n",
    "        x_input = x_input.reshape((1, n_steps,1))\n",
    "        yhat = model.predict(x_input, verbose=0)\n",
    "        print(yhat[0])\n",
    "        temp_input.extend(yhat[0].tolist())\n",
    "        print(len(temp_input))\n",
    "        lst_output.extend(yhat.tolist())\n",
    "        i=i+1\n",
    "    \n",
    "\n",
    "print(lst_output)"
   ]
  },
  {
   "cell_type": "code",
   "execution_count": 39,
   "id": "fc7b986d",
   "metadata": {},
   "outputs": [],
   "source": [
    "day_new=np.arange(1,101)\n",
    "day_pred=np.arange(101,131)"
   ]
  },
  {
   "cell_type": "code",
   "execution_count": 40,
   "id": "08404c40",
   "metadata": {},
   "outputs": [],
   "source": [
    "import matplotlib.pyplot as plt"
   ]
  },
  {
   "cell_type": "code",
   "execution_count": 41,
   "id": "2c016689",
   "metadata": {},
   "outputs": [
    {
     "data": {
      "text/plain": [
       "1258"
      ]
     },
     "execution_count": 41,
     "metadata": {},
     "output_type": "execute_result"
    }
   ],
   "source": [
    "len(df2)"
   ]
  },
  {
   "cell_type": "code",
   "execution_count": 42,
   "id": "1b3ddc75",
   "metadata": {},
   "outputs": [
    {
     "data": {
      "text/plain": [
       "[<matplotlib.lines.Line2D at 0x179b8a3a580>]"
      ]
     },
     "execution_count": 42,
     "metadata": {},
     "output_type": "execute_result"
    },
    {
     "data": {
      "image/png": "[encoded data removed]",
      "text/plain": [
       "<Figure size 432x288 with 1 Axes>"
      ]
     },
     "metadata": {
      "needs_background": "light"
     },
     "output_type": "display_data"
    }
   ],
   "source": [
    "plt.plot(day_new,scaler.inverse_transform(df2[1158:]))\n",
    "plt.plot(day_pred,scaler.inverse_transform(lst_output))"
   ]
  },
  {
   "cell_type": "code",
   "execution_count": 46,
   "id": "ce99a447",
   "metadata": {},
   "outputs": [
    {
     "data": {
      "text/plain": [
       "[<matplotlib.lines.Line2D at 0x179b9da9940>]"
      ]
     },
     "execution_count": 46,
     "metadata": {},
     "output_type": "execute_result"
    },
    {
     "data": {
      "image/png": "[encoded data removed]",
      "text/plain": [
       "<Figure size 432x288 with 1 Axes>"
      ]
     },
     "metadata": {
      "needs_background": "light"
     },
     "output_type": "display_data"
    }
   ],
   "source": [
    "df3=df2.tolist()\n",
    "df3.extend(lst_output)\n",
    "plt.plot(df3[1000:])"
   ]
  },
  {
   "cell_type": "code",
   "execution_count": 44,
   "id": "9b2efa7e",
   "metadata": {},
   "outputs": [],
   "source": [
    "df3=scaler.inverse_transform(df3).tolist()"
   ]
  },
  {
   "cell_type": "code",
   "execution_count": 45,
   "id": "141e08ec",
   "metadata": {},
   "outputs": [
    {
     "data": {
      "text/plain": [
       "[<matplotlib.lines.Line2D at 0x179b9dc1550>]"
      ]
     },
     "execution_count": 45,
     "metadata": {},
     "output_type": "execute_result"
    },
    {
     "data": {
      "image/png": "[encoded data removed]",
      "text/plain": [
       "<Figure size 432x288 with 1 Axes>"
      ]
     },
     "metadata": {
      "needs_background": "light"
     },
     "output_type": "display_data"
    }
   ],
   "source": [
    "plt.plot(df3)"
   ]
  },
  {
   "cell_type": "code",
   "execution_count": null,
   "id": "44b56cf2",
   "metadata": {},
   "outputs": [],
   "source": []
  },
  {
   "cell_type": "code",
   "execution_count": null,
   "id": "c20c441e",
   "metadata": {},
   "outputs": [],
   "source": []
  },
  {
   "cell_type": "code",
   "execution_count": null,
   "id": "9985d62e",
   "metadata": {},
   "outputs": [],
   "source": []
  }
 ],
 "metadata": {
  "kernelspec": {
   "display_name": "Python 3 (ipykernel)",
   "language": "python",
   "name": "python3"
  },
  "language_info": {
   "codemirror_mode": {
    "name": "ipython",
    "version": 3
   },
   "file_extension": ".py",
   "mimetype": "text/x-python",
   "name": "python",
   "nbconvert_exporter": "python",
   "pygments_lexer": "ipython3",
   "version": "3.9.12"
  }
 },
 "nbformat": 4,
 "nbformat_minor": 5
}
